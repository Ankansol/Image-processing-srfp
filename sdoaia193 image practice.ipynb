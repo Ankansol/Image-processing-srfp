{
 "cells": [
  {
   "cell_type": "code",
   "execution_count": 2,
   "id": "671bf01a-52eb-4a69-a8fe-878433cac3ac",
   "metadata": {},
   "outputs": [],
   "source": [
    "#Importing modules\n",
    "%matplotlib qt\n",
    "from astropy.io import fits\n",
    "import matplotlib.pyplot as plt\n",
    "import sunpy.map\n",
    "import numpy as np\n",
    "from skimage import exposure\n",
    "import cv2"
   ]
  },
  {
   "cell_type": "code",
   "execution_count": 4,
   "id": "f8d24958-5bed-48ca-a5d1-6b7884af79bc",
   "metadata": {},
   "outputs": [
    {
     "name": "stdout",
     "output_type": "stream",
     "text": [
      "Filename: G:\\jsoc\\aia.lev1.193A_2024-06-19T08_00_04.84Z.image_lev1.fits\n",
      "No.    Name      Ver    Type      Cards   Dimensions   Format\n",
      "  0  PRIMARY       1 PrimaryHDU       6   ()      \n",
      "  1  COMPRESSED_IMAGE    1 CompImageHDU    187   (4096, 4096)   int16   \n",
      "None\n",
      "(4096, 4096)\n",
      "minimum data value -8\n",
      "maximum data value 14475\n"
     ]
    }
   ],
   "source": [
    "#loading fits file and header info\n",
    "fits_data = r'G:\\jsoc\\aia.lev1.193A_2024-06-19T08_00_04.84Z.image_lev1.fits' \n",
    "hdul = fits.open(fits_data)\n",
    "print(hdul.info())\n",
    "image_data = hdul[1].data\n",
    "print(image_data.shape)\n",
    "print(\"minimum data value\", np.min(image_data))\n",
    "print(\"maximum data value\", np.max(image_data))\n",
    "sdo_aia_193 = sunpy.map.Map(fits_data)\n",
    "sdo_aia_image = sdo_aia_193.data\n",
    "sdo_image_data = sdo_aia_image.astype(np.float32)\n",
    "hdul.close()"
   ]
  },
  {
   "cell_type": "code",
   "execution_count": 6,
   "id": "67e0e93f-7166-4de6-a424-041e01146561",
   "metadata": {},
   "outputs": [
    {
     "name": "stdout",
     "output_type": "stream",
     "text": [
      "(4096, 4096) float32\n"
     ]
    }
   ],
   "source": [
    "# Mean filter\n",
    "kernel_size = (21, 21)\n",
    "image_data_float = image_data.astype(np.float32)\n",
    "mean_filtered_image = cv2.blur(image_data_float, kernel_size)\n",
    "# Plotting\n",
    "plt.figure(figsize=(10, 6))\n",
    "\n",
    "# Original image\n",
    "plt.subplot(1, 2, 1)\n",
    "plt.title('Original Image')\n",
    "plt.imshow(image_data, cmap='gray')\n",
    "plt.axis('off')\n",
    "\n",
    "# Mean filtered image\n",
    "plt.subplot(1, 2, 2)\n",
    "plt.title('Mean Filtered Image')\n",
    "plt.imshow(mean_filtered_image, cmap='gray')\n",
    "plt.axis('off')\n",
    "\n",
    "plt.show()\n",
    "print(mean_filtered_image.shape, mean_filtered_image.dtype)\n"
   ]
  },
  {
   "cell_type": "code",
   "execution_count": 7,
   "id": "c484f0f6-ac8b-4d53-b9ee-d45fe5b29798",
   "metadata": {},
   "outputs": [],
   "source": [
    "image_data_float = image_data.astype(np.float32)"
   ]
  },
  {
   "cell_type": "code",
   "execution_count": 8,
   "id": "39ba7195-7f52-4cd7-af6d-6f9c5f60fed1",
   "metadata": {},
   "outputs": [],
   "source": [
    "#gaussian filter\n",
    "kernel_size = (3,3)\n",
    "sigma= 4\n",
    "filtered_image = cv2.GaussianBlur(image_data_float, kernel_size, sigma)\n",
    "plt.figure(figsize=(12, 6))\n",
    "\n",
    "plt.subplot(1, 2, 1)\n",
    "plt.title('Original Image')\n",
    "plt.imshow(image_data_float, cmap='gray', origin='lower')\n",
    "plt.colorbar(label='Intensity')\n",
    "plt.axis('off')\n",
    "\n",
    "plt.subplot(1, 2, 2)\n",
    "plt.title('Gaussian Filtered Image')\n",
    "plt.imshow(filtered_image, cmap='gray', origin='lower')\n",
    "plt.colorbar(label='Intensity')\n",
    "plt.axis('off')\n",
    "\n",
    "plt.show()"
   ]
  },
  {
   "cell_type": "code",
   "execution_count": 9,
   "id": "ecdf09e8-2b61-49c7-b5ff-df5f2a6b5ffb",
   "metadata": {},
   "outputs": [],
   "source": [
    "#median filter \n",
    "median_filter = cv2.medianBlur(image_data_float, 5)\n",
    "plt.figure(figsize=(15, 10))\n",
    "\n",
    "plt.subplot(1, 2, 1)\n",
    "plt.title('Original Image')\n",
    "plt.imshow(image_data_float, cmap='gray')\n",
    "plt.axis('off')\n",
    "plt.subplot(1, 2, 2)\n",
    "plt.title('Median Filtered Image')\n",
    "plt.imshow(median_filter, cmap='gray')\n",
    "plt.axis('off')\n",
    "plt.tight_layout()\n",
    "plt.show()\n"
   ]
  },
  {
   "cell_type": "code",
   "execution_count": null,
   "id": "cc731e88-4598-4366-91c3-1c11fa75183f",
   "metadata": {},
   "outputs": [],
   "source": []
  }
 ],
 "metadata": {
  "kernelspec": {
   "display_name": "Python 3 (ipykernel)",
   "language": "python",
   "name": "python3"
  },
  "language_info": {
   "codemirror_mode": {
    "name": "ipython",
    "version": 3
   },
   "file_extension": ".py",
   "mimetype": "text/x-python",
   "name": "python",
   "nbconvert_exporter": "python",
   "pygments_lexer": "ipython3",
   "version": "3.12.4"
  }
 },
 "nbformat": 4,
 "nbformat_minor": 5
}
